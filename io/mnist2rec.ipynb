{
 "cells": [
  {
   "cell_type": "markdown",
   "metadata": {},
   "source": [
    "(markdown是用jupypter notebook生成)\n",
    "<hr>\n",
    "mxnet为的提高IO效率, 不会直接读取图片文件, 而是先将图片列表和标签转换为RecordIO格式的二进制文件, 训练时就可以顺序读取数据, 大大提高了IO速率.\n",
    "# 如何将图片列表与标签转换为RecordIO?\n",
    " mxnet直接提供了mnist与cifar数据集的recordIO格式, 但为了熟悉这个过程, 我决定自己手动来一遍: 将mnist数据的原始二进制格式转换为recordIO格式.\n",
    "## 如何将mnist ubyte文件转换成image 文件与lst?\n",
    "从[Yan Lecun](http://yann.lecun.com/exdb/mnist/index.html)网站上下载下来的原始数据由以下四部分组成"
   ]
  },
  {
   "cell_type": "code",
   "execution_count": 1,
   "metadata": {
    "collapsed": false,
    "scrolled": true
   },
   "outputs": [
    {
     "name": "stdout",
     "output_type": "stream",
     "text": [
      "t10k-images-idx3-ubyte\ttrain-images-idx3-ubyte\r\n",
      "t10k-labels-idx1-ubyte\ttrain-labels-idx1-ubyte\r\n"
     ]
    }
   ],
   "source": [
    "!ls ../dataset/mnist"
   ]
  },
  {
   "cell_type": "markdown",
   "metadata": {},
   "source": [
    "### 怎样读取训练数据?"
   ]
  },
  {
   "cell_type": "markdown",
   "metadata": {},
   "source": [
    "train images和labels两个文件分别训练数据的图片与标签, 数量为50k.  t10k images 和labels则是测试数据, 10k.\n",
    "先写脚本读取训练数据, 生成im2rec需要的图片文件与lst文件. train-images-idx3-ubyte文件的数据格式为:\n",
    "```\n",
    "# The labels values are 0 to 9.\n",
    "# TRAINING SET IMAGE FILE (train-images-idx3-ubyte):\n",
    "# [offset] [type]          [value]          [description]\n",
    "# 0000     32 bit integer  0x00000803(2051) magic number\n",
    "# 0004     32 bit integer  60000            number of images\n",
    "# 0008     32 bit integer  28               number of rows\n",
    "# 0012     32 bit integer  28               number of columns\n",
    "# 0016     unsigned byte   ??               pixel\n",
    "# 0017     unsigned byte   ??               pixel\n",
    "# ........\n",
    "# xxxx     unsigned byte   ??               pixel\n",
    "```"
   ]
  },
  {
   "cell_type": "code",
   "execution_count": 2,
   "metadata": {
    "collapsed": false
   },
   "outputs": [],
   "source": [
    "import sys;\n",
    "file_path = '../dataset/mnist/';\n",
    "train_images_ubyte = file_path + 'train-images-idx3-ubyte';\n",
    "train_labels_ubyte = file_path + 'train-labels-idx1-ubyte';\n",
    "test_images_ubyte = file_path + 'test-images-idx3-ubyte';\n",
    "test_labels_ubyte = file_path + 'test-labels-idx1-ubyte';\n",
    "\n",
    "train_images = [];\n",
    "train_labels = [];\n",
    "def readInt(f, n = 4):\n",
    "    \"\"\"从mnist二进制文件中读取整数\"\"\"\n",
    "    return int(f.read(n).encode('hex'), 16);\n",
    "def readImage(f):\n",
    "    \"\"\"从mnist二进制文件中读取图片\"\"\"\n",
    "    n = 28*28;\n",
    "    img = [0]*n;\n",
    "    for i in xrange(n):#这样一个一个字节地读取会很慢\n",
    "        img[i] = readInt(f, 1);\n",
    "    return img;\n",
    "\n",
    "# 读取图片\n",
    "with open(train_images_ubyte, 'r') as f:\n",
    "    magic = readInt(f);\n",
    "    num_img = readInt(f);\n",
    "    num_rows = readInt(f);\n",
    "    num_cols = readInt(f);\n",
    "\n",
    "    for i in range(num_img):\n",
    "        train_images.append(readImage(f));"
   ]
  },
  {
   "cell_type": "markdown",
   "metadata": {
    "collapsed": true
   },
   "source": [
    "train-labels-idx1-ubyte的数据格式如下:\n",
    "```\n",
    "#  TRAINING SET LABEL FILE (train-labels-idx1-ubyte):\n",
    "# [offset] [type]          [value]          [description]\n",
    "# 0000     32 bit integer  0x00000801(2049) magic number (MSB first)\n",
    "# 0004     32 bit integer  60000            number of items\n",
    "# 0008     unsigned byte   ??               label\n",
    "# 0009     unsigned byte   ??               label\n",
    "# ........\n",
    "# xxxx     unsigned byte   ??               label\n",
    "# \n",
    "```"
   ]
  },
  {
   "cell_type": "code",
   "execution_count": 3,
   "metadata": {
    "collapsed": false
   },
   "outputs": [],
   "source": [
    "def readLabel(f):\n",
    "    \"\"\"从mnist二进制文件中读取label\"\"\"\n",
    "    return readInt(f, 1);\n",
    "\n",
    "# 读取标签\n",
    "with open(train_labels_ubyte, 'r') as f:\n",
    "    magic = readInt(f);\n",
    "    num_items = readInt(f);\n",
    "    \n",
    "    for i in xrange(num_items):\n",
    "        train_labels.append(readLabel(f));"
   ]
  },
  {
   "cell_type": "markdown",
   "metadata": {},
   "source": [
    "### 可视化一下读取出来的数据\n",
    "没什么实质性的功能, 就为了看看读出来的数据是怎样的. "
   ]
  },
  {
   "cell_type": "code",
   "execution_count": 4,
   "metadata": {
    "collapsed": false
   },
   "outputs": [
    {
     "data": {
      "image/png": "[encoded data removed]",
      "text/plain": [
       "<matplotlib.figure.Figure at 0x7f95f5948350>"
      ]
     },
     "metadata": {},
     "output_type": "display_data"
    },
    {
     "data": {
      "image/png": "[encoded data removed]",
      "text/plain": [
       "<matplotlib.figure.Figure at 0x7f95f856ce90>"
      ]
     },
     "metadata": {},
     "output_type": "display_data"
    }
   ],
   "source": [
    "import matplotlib.pyplot as plt;\n",
    "import numpy as np;\n",
    "%matplotlib inline\n",
    "\n",
    "def list2img(arr):\n",
    "    return np.reshape(arr, (28, 28));\n",
    "# 显示几张图片及其对应对手写数字；\n",
    "num = 10\n",
    "for i in range(num):\n",
    "    img = list2img(train_images[i]);    \n",
    "    plt.subplot(1,num,i+1);\n",
    "    plt.imshow(img, cmap='gray')\n",
    "    plt.axis('off')\n",
    "    plt.title(train_labels[i])\n",
    "\n",
    "# 画一张条形图看看数字的分布\n",
    "plt.figure()\n",
    "plt.hist(train_labels, range(11));\n"
   ]
  },
  {
   "cell_type": "markdown",
   "metadata": {},
   "source": [
    "可以看出, 每个数字的分布还是挺均匀的."
   ]
  },
  {
   "cell_type": "markdown",
   "metadata": {},
   "source": [
    "### 导出图片, 并生成lst文件"
   ]
  },
  {
   "cell_type": "code",
   "execution_count": 5,
   "metadata": {
    "collapsed": false
   },
   "outputs": [],
   "source": [
    "#导出图片  \n",
    "import cv2\n",
    "import os\n",
    "file_dir = '/home/dengdan/dataset/mnist/raw/train/images/';\n",
    "if not os.path.exists(file_dir) or not os.path.isdir(file_dir):\n",
    "    os.makedirs(file_dir);\n",
    "file_name = 'mnist_train_{0}.jpg';\n",
    "n = len(train_images)\n",
    "for i in xrange(n):\n",
    "    img = list2img(train_images[i]);    \n",
    "    #cv2.imwrite(file_dir + file_name.format(i), img)"
   ]
  },
  {
   "cell_type": "markdown",
   "metadata": {},
   "source": [
    "lst 文件用于将图片文件与它的label对应起来. 每一行为一条记录, 格式为:\n",
    "```\n",
    "integer_image_index \\t label_index \\t path_to_image\n",
    "```\n",
    "```\n",
    "895099  464     n04467665_17283.JPEG\n",
    "10025081        412     ILSVRC2010_val_00025082.JPEG\n",
    "74181   789     n01915811_2739.JPEG\n",
    "10035553        859     ILSVRC2010_val_00035554.JPEG\n",
    "10048727        929     ILSVRC2010_val_00048728.JPEG\n",
    "94028   924     n01980166_4956.JPEG\n",
    "1080682 650     n11807979_571.JPEG\n",
    "972457  633     n07723039_1627.JPEG\n",
    "7534    11      n01630670_4486.JPEG\n",
    "1191261 249     n12407079_5106.JPEG\n",
    "```"
   ]
  },
  {
   "cell_type": "code",
   "execution_count": 6,
   "metadata": {
    "collapsed": false
   },
   "outputs": [],
   "source": [
    "# 生成lst 文件\n",
    "def rec(idx, label):\n",
    "    \"\"\"生成第idx张图片的记录\"\"\"\n",
    "    name = file_name.format(idx);\n",
    "    return '{0} \\t {1} \\t {2}'.format(idx, label, name)\n",
    "\n",
    "lst_path = '/home/dengdan/dataset/mnist/mxnet/'\n",
    "if not os.path.exists(lst_path) or not os.path.isdir(lst_path):\n",
    "    os.makedirs(lst_path);\n",
    "lst = lst_path + 'train.lst';\n",
    "with open(lst, 'w') as f:\n",
    "    for i in xrange(len(train_labels)):\n",
    "        record = rec(i, train_labels[i]);\n",
    "        f.write(record + '\\n');"
   ]
  },
  {
   "cell_type": "markdown",
   "metadata": {},
   "source": [
    "现在, 图片也有了, lst文件也有了, 可以利用im2rec工具生成recordio文件了"
   ]
  },
  {
   "cell_type": "code",
   "execution_count": 7,
   "metadata": {
    "collapsed": false
   },
   "outputs": [
    {
     "name": "stdout",
     "output_type": "stream",
     "text": [
      "[16:28:31] tools/im2rec.cc:96: Keep origin image size\n",
      "[16:28:31] tools/im2rec.cc:107: Encoding is .jpg\n",
      "[16:28:31] tools/im2rec.cc:153: Write to output: /home/dengdan/dataset/mnist/mxnet/train.bin\n",
      "[16:28:31] tools/im2rec.cc:155: Output: /home/dengdan/dataset/mnist/mxnet/train.bin\n",
      "[16:28:31] tools/im2rec.cc:168: JPEG encoding quality: 80\n",
      "[16:28:31] tools/im2rec.cc:251: 1000 images processed, 0.0781758 sec elapsed\n",
      "[16:28:31] tools/im2rec.cc:251: 2000 images processed, 0.151105 sec elapsed\n",
      "[16:28:32] tools/im2rec.cc:251: 3000 images processed, 0.224051 sec elapsed\n",
      "[16:28:32] tools/im2rec.cc:251: 4000 images processed, 0.296463 sec elapsed\n",
      "[16:28:32] tools/im2rec.cc:251: 5000 images processed, 0.370086 sec elapsed\n",
      "[16:28:32] tools/im2rec.cc:251: 6000 images processed, 0.444228 sec elapsed\n",
      "[16:28:32] tools/im2rec.cc:251: 7000 images processed, 0.518702 sec elapsed\n",
      "[16:28:32] tools/im2rec.cc:251: 8000 images processed, 0.59227 sec elapsed\n",
      "[16:28:32] tools/im2rec.cc:251: 9000 images processed, 0.665246 sec elapsed\n",
      "[16:28:32] tools/im2rec.cc:251: 10000 images processed, 0.738217 sec elapsed\n",
      "[16:28:32] tools/im2rec.cc:251: 11000 images processed, 0.811806 sec elapsed\n",
      "[16:28:32] tools/im2rec.cc:251: 12000 images processed, 0.884598 sec elapsed\n",
      "[16:28:32] tools/im2rec.cc:251: 13000 images processed, 0.958229 sec elapsed\n",
      "[16:28:32] tools/im2rec.cc:251: 14000 images processed, 1.03207 sec elapsed\n",
      "[16:28:32] tools/im2rec.cc:251: 15000 images processed, 1.10592 sec elapsed\n",
      "[16:28:32] tools/im2rec.cc:251: 16000 images processed, 1.17959 sec elapsed\n",
      "[16:28:33] tools/im2rec.cc:251: 17000 images processed, 1.25205 sec elapsed\n",
      "[16:28:33] tools/im2rec.cc:251: 18000 images processed, 1.32534 sec elapsed\n",
      "[16:28:33] tools/im2rec.cc:251: 19000 images processed, 1.39768 sec elapsed\n",
      "[16:28:33] tools/im2rec.cc:251: 20000 images processed, 1.47005 sec elapsed\n",
      "[16:28:33] tools/im2rec.cc:251: 21000 images processed, 1.54411 sec elapsed\n",
      "[16:28:33] tools/im2rec.cc:251: 22000 images processed, 1.61789 sec elapsed\n",
      "[16:28:33] tools/im2rec.cc:251: 23000 images processed, 1.69091 sec elapsed\n",
      "[16:28:33] tools/im2rec.cc:251: 24000 images processed, 1.76437 sec elapsed\n",
      "[16:28:33] tools/im2rec.cc:251: 25000 images processed, 1.83824 sec elapsed\n",
      "[16:28:33] tools/im2rec.cc:251: 26000 images processed, 1.91221 sec elapsed\n",
      "[16:28:33] tools/im2rec.cc:251: 27000 images processed, 1.98595 sec elapsed\n",
      "[16:28:33] tools/im2rec.cc:251: 28000 images processed, 2.0601 sec elapsed\n",
      "[16:28:33] tools/im2rec.cc:251: 29000 images processed, 2.13401 sec elapsed\n",
      "[16:28:33] tools/im2rec.cc:251: 30000 images processed, 2.20753 sec elapsed\n",
      "[16:28:34] tools/im2rec.cc:251: 31000 images processed, 2.28017 sec elapsed\n",
      "[16:28:34] tools/im2rec.cc:251: 32000 images processed, 2.35362 sec elapsed\n",
      "[16:28:34] tools/im2rec.cc:251: 33000 images processed, 2.42767 sec elapsed\n",
      "[16:28:34] tools/im2rec.cc:251: 34000 images processed, 2.5017 sec elapsed\n",
      "[16:28:34] tools/im2rec.cc:251: 35000 images processed, 2.57615 sec elapsed\n",
      "[16:28:34] tools/im2rec.cc:251: 36000 images processed, 2.65029 sec elapsed\n",
      "[16:28:34] tools/im2rec.cc:251: 37000 images processed, 2.72414 sec elapsed\n",
      "[16:28:34] tools/im2rec.cc:251: 38000 images processed, 2.798 sec elapsed\n",
      "[16:28:34] tools/im2rec.cc:251: 39000 images processed, 2.87153 sec elapsed\n",
      "[16:28:34] tools/im2rec.cc:251: 40000 images processed, 2.94521 sec elapsed\n",
      "[16:28:34] tools/im2rec.cc:251: 41000 images processed, 3.01786 sec elapsed\n",
      "[16:28:34] tools/im2rec.cc:251: 42000 images processed, 3.09151 sec elapsed\n",
      "[16:28:34] tools/im2rec.cc:251: 43000 images processed, 3.16527 sec elapsed\n",
      "[16:28:35] tools/im2rec.cc:251: 44000 images processed, 3.23872 sec elapsed\n",
      "[16:28:35] tools/im2rec.cc:251: 45000 images processed, 3.31247 sec elapsed\n",
      "[16:28:35] tools/im2rec.cc:251: 46000 images processed, 3.38607 sec elapsed\n",
      "[16:28:35] tools/im2rec.cc:251: 47000 images processed, 3.4598 sec elapsed\n",
      "[16:28:35] tools/im2rec.cc:251: 48000 images processed, 3.53251 sec elapsed\n",
      "[16:28:35] tools/im2rec.cc:251: 49000 images processed, 3.6062 sec elapsed\n",
      "[16:28:35] tools/im2rec.cc:251: 50000 images processed, 3.67928 sec elapsed\n",
      "[16:28:35] tools/im2rec.cc:251: 51000 images processed, 3.75304 sec elapsed\n",
      "[16:28:35] tools/im2rec.cc:251: 52000 images processed, 3.82626 sec elapsed\n",
      "[16:28:35] tools/im2rec.cc:251: 53000 images processed, 3.89924 sec elapsed\n",
      "[16:28:35] tools/im2rec.cc:251: 54000 images processed, 3.97224 sec elapsed\n",
      "[16:28:35] tools/im2rec.cc:251: 55000 images processed, 4.04441 sec elapsed\n",
      "[16:28:35] tools/im2rec.cc:251: 56000 images processed, 4.11869 sec elapsed\n",
      "[16:28:35] tools/im2rec.cc:251: 57000 images processed, 4.1915 sec elapsed\n",
      "[16:28:36] tools/im2rec.cc:251: 58000 images processed, 4.26273 sec elapsed\n",
      "[16:28:36] tools/im2rec.cc:251: 59000 images processed, 4.3346 sec elapsed\n",
      "[16:28:36] tools/im2rec.cc:251: 60000 images processed, 4.40678 sec elapsed\n",
      "[16:28:36] tools/im2rec.cc:254: Total: 60000 images processed, 4.40682 sec elapsed\n"
     ]
    }
   ],
   "source": [
    "! ~/github/mxnet/bin/im2rec ~/dataset/mnist/mxnet/train.lst  ~/dataset/mnist/raw/train/images/   ~/dataset/mnist/mxnet/train.bin"
   ]
  }
 ],
 "metadata": {
  "kernelspec": {
   "display_name": "Python 2",
   "language": "python",
   "name": "python2"
  },
  "language_info": {
   "codemirror_mode": {
    "name": "ipython",
    "version": 2
   },
   "file_extension": ".py",
   "mimetype": "text/x-python",
   "name": "python",
   "nbconvert_exporter": "python",
   "pygments_lexer": "ipython2",
   "version": "2.7.6"
  }
 },
 "nbformat": 4,
 "nbformat_minor": 0
}
